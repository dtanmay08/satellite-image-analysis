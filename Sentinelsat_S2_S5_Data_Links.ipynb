{
  "nbformat": 4,
  "nbformat_minor": 0,
  "metadata": {
    "colab": {
      "name": "Download-S2-S5-Data.ipynb",
      "provenance": []
    },
    "kernelspec": {
      "name": "python3",
      "display_name": "Python 3"
    },
    "accelerator": "GPU"
  },
  "cells": [
    {
      "cell_type": "markdown",
      "metadata": {
        "id": "qZbgt_2kfhPQ",
        "colab_type": "text"
      },
      "source": [
        "**SENTINEL-2 AND SENTINEL-5 DATA LINKS VIA PYTHON API**"
      ]
    },
    {
      "cell_type": "markdown",
      "metadata": {
        "id": "EFFdHWEDfugK",
        "colab_type": "text"
      },
      "source": [
        "MOUNT GOOGLE DRIVE\n"
      ]
    },
    {
      "cell_type": "code",
      "metadata": {
        "id": "eJ4VtHO0whlm",
        "colab_type": "code",
        "colab": {}
      },
      "source": [
        "from google.colab import drive\n",
        "drive.mount('/content/drive',force_remount=True)"
      ],
      "execution_count": 0,
      "outputs": []
    },
    {
      "cell_type": "markdown",
      "metadata": {
        "id": "yyLIb3GEf4B5",
        "colab_type": "text"
      },
      "source": [
        "INSTALL sentinelsat "
      ]
    },
    {
      "cell_type": "code",
      "metadata": {
        "id": "fv9ASXeWd7kC",
        "colab_type": "code",
        "colab": {
          "base_uri": "https://localhost:8080/",
          "height": 348
        },
        "outputId": "a31a50f5-903c-4d7c-9a6f-96a46f2c1b7c"
      },
      "source": [
        "!pip install sentinelsat"
      ],
      "execution_count": 2,
      "outputs": [
        {
          "output_type": "stream",
          "text": [
            "Collecting sentinelsat\n",
            "  Downloading https://files.pythonhosted.org/packages/5c/79/c2ac7b71dd13db95a9b83865bbbc7f1e4359c2b141bedad21b0e181fa06e/sentinelsat-0.13-py2.py3-none-any.whl\n",
            "Requirement already satisfied: tqdm in /usr/local/lib/python3.6/dist-packages (from sentinelsat) (4.28.1)\n",
            "Requirement already satisfied: six in /usr/local/lib/python3.6/dist-packages (from sentinelsat) (1.12.0)\n",
            "Collecting html2text\n",
            "  Downloading https://files.pythonhosted.org/packages/49/21/eb38d335ab15fc13564a5e971c1403707fb3a037292f246fa82e17208794/html2text-2019.9.26-py3-none-any.whl\n",
            "Requirement already satisfied: requests in /usr/local/lib/python3.6/dist-packages (from sentinelsat) (2.21.0)\n",
            "Collecting geojson>=2\n",
            "  Downloading https://files.pythonhosted.org/packages/e4/8d/9e28e9af95739e6d2d2f8d4bef0b3432da40b7c3588fbad4298c1be09e48/geojson-2.5.0-py2.py3-none-any.whl\n",
            "Collecting geomet\n",
            "  Downloading https://files.pythonhosted.org/packages/d8/c4/da43311a7b610466fa6ab491fe63bad0535889df8108f2dc53ebe3198494/geomet-0.2.1-py3-none-any.whl\n",
            "Requirement already satisfied: click in /usr/local/lib/python3.6/dist-packages (from sentinelsat) (7.0)\n",
            "Requirement already satisfied: chardet<3.1.0,>=3.0.2 in /usr/local/lib/python3.6/dist-packages (from requests->sentinelsat) (3.0.4)\n",
            "Requirement already satisfied: certifi>=2017.4.17 in /usr/local/lib/python3.6/dist-packages (from requests->sentinelsat) (2019.9.11)\n",
            "Requirement already satisfied: urllib3<1.25,>=1.21.1 in /usr/local/lib/python3.6/dist-packages (from requests->sentinelsat) (1.24.3)\n",
            "Requirement already satisfied: idna<2.9,>=2.5 in /usr/local/lib/python3.6/dist-packages (from requests->sentinelsat) (2.8)\n",
            "Installing collected packages: html2text, geojson, geomet, sentinelsat\n",
            "Successfully installed geojson-2.5.0 geomet-0.2.1 html2text-2019.9.26 sentinelsat-0.13\n"
          ],
          "name": "stdout"
        }
      ]
    },
    {
      "cell_type": "code",
      "metadata": {
        "id": "N7ZeeTBRejj6",
        "colab_type": "code",
        "colab": {}
      },
      "source": [
        "from sentinelsat import read_geojson, geojson_to_wkt, SentinelAPI"
      ],
      "execution_count": 0,
      "outputs": []
    },
    {
      "cell_type": "markdown",
      "metadata": {
        "id": "IEyP1ssFg_FE",
        "colab_type": "text"
      },
      "source": [
        "**PART 1 : SENTINEL-2 DATA**"
      ]
    },
    {
      "cell_type": "markdown",
      "metadata": {
        "id": "nxuul4pSgC7k",
        "colab_type": "text"
      },
      "source": [
        "CONNECT API"
      ]
    },
    {
      "cell_type": "code",
      "metadata": {
        "id": "_4GCwjyEtjbL",
        "colab_type": "code",
        "colab": {}
      },
      "source": [
        "api_s2 = SentinelAPI('s5pguest', 's5pguest',api_url='https://scihub.copernicus.eu/apihub')"
      ],
      "execution_count": 0,
      "outputs": []
    },
    {
      "cell_type": "markdown",
      "metadata": {
        "id": "U2MsIkxvgfaf",
        "colab_type": "text"
      },
      "source": [
        "GETTING PRODUCT LIST FOR MANNHEIM AREA.\n",
        "FILE 'mannheim.geojson' IS UPLOADED IN THE SAME GOOGLE DRIVE DIRECTORY"
      ]
    },
    {
      "cell_type": "code",
      "metadata": {
        "id": "Y8NR0Ari0wL_",
        "colab_type": "code",
        "colab": {}
      },
      "source": [
        "products_s2 = api_s2.query(\n",
        "    area = geojson_to_wkt(read_geojson('/content/drive/My Drive/Colab_Notebooks/mannheim.geojson')),\n",
        "    date = (\"20151001\", \"20160201\"),\n",
        "    platformname = \"Sentinel-2\"\n",
        ")"
      ],
      "execution_count": 0,
      "outputs": []
    },
    {
      "cell_type": "markdown",
      "metadata": {
        "id": "PPBMiEacg3jb",
        "colab_type": "text"
      },
      "source": [
        "EXTRACTING ONE OF THE DATA LINKS FOR SENTINEL-2 "
      ]
    },
    {
      "cell_type": "code",
      "metadata": {
        "id": "fNFtgz-Yezxc",
        "colab_type": "code",
        "colab": {
          "base_uri": "https://localhost:8080/",
          "height": 72
        },
        "outputId": "6a472cb0-5f06-4aff-d614-efee735421ac"
      },
      "source": [
        "gj=api_s2.to_geojson(products_s2)\n",
        "print('Mannheim Sentinel-2 link:')\n",
        "print(gj[\"features\"][0][\"properties\"][\"link\"])"
      ],
      "execution_count": 6,
      "outputs": [
        {
          "output_type": "stream",
          "text": [
            "Mannheim Sentinel-2 link:\n",
            "https://scihub.copernicus.eu/apihub/odata/v1/Products('c79ee9fa-afb0-46eb-9936-d2618d42e077')/$value\n"
          ],
          "name": "stdout"
        }
      ]
    },
    {
      "cell_type": "markdown",
      "metadata": {
        "id": "dV5nKb9bhIH9",
        "colab_type": "text"
      },
      "source": [
        "\n",
        "\n",
        "---\n",
        "\n"
      ]
    },
    {
      "cell_type": "markdown",
      "metadata": {
        "id": "YeTyNLPfhEab",
        "colab_type": "text"
      },
      "source": [
        "**PART-2: SENTINEL-5 DATA**"
      ]
    },
    {
      "cell_type": "code",
      "metadata": {
        "id": "QEyGoUJE5OYt",
        "colab_type": "code",
        "outputId": "32fad319-6c7f-4857-8c9b-148b98c217bf",
        "colab": {
          "base_uri": "https://localhost:8080/",
          "height": 34
        }
      },
      "source": [
        "\n",
        "api_s5 = SentinelAPI('s5pguest', 's5pguest',api_url='https://s5phub.copernicus.eu/dhus')\n",
        "products_s5 = api_s5.query(\n",
        "    area = geojson_to_wkt(read_geojson('/content/drive/My Drive/Colab_Notebooks/mannheim.geojson')),    \n",
        "    platformname = \"Sentinel-5\"\n",
        ")\n",
        "json=api_s5.to_geojson(products_s5)"
      ],
      "execution_count": 7,
      "outputs": [
        {
          "output_type": "stream",
          "text": [
            "Querying products: 100%|██████████| 25451/25451 [01:48<00:00, 254.17 products/s]\n"
          ],
          "name": "stderr"
        }
      ]
    },
    {
      "cell_type": "code",
      "metadata": {
        "id": "YHamMKzDhsiu",
        "colab_type": "code",
        "colab": {
          "base_uri": "https://localhost:8080/",
          "height": 52
        },
        "outputId": "b3ca16a7-6a16-4bd7-ad88-eb843905a44c"
      },
      "source": [
        "print('Mannheim Sentinel-5 link:')\n",
        "print(json[\"features\"][0][\"properties\"][\"link\"])"
      ],
      "execution_count": 8,
      "outputs": [
        {
          "output_type": "stream",
          "text": [
            "Mannheim Sentinel-5 link:\n",
            "https://s5phub.copernicus.eu/dhus/odata/v1/Products('ac63012f-f11f-4b8a-ab0a-9f9870c51613')/$value\n"
          ],
          "name": "stdout"
        }
      ]
    }
  ]
}