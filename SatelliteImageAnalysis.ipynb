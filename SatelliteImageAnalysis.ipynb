{
  "nbformat": 4,
  "nbformat_minor": 0,
  "metadata": {
    "colab": {
      "name": "SatelliteImageAnalysis.ipynb",
      "provenance": [],
      "toc_visible": true
    },
    "kernelspec": {
      "name": "python3",
      "display_name": "Python 3"
    },
    "accelerator": "GPU"
  },
  "cells": [
    {
      "cell_type": "markdown",
      "metadata": {
        "id": "3HvMaY8Qwfol",
        "colab_type": "text"
      },
      "source": [
        "## **SATELLITE IMAGE ANALYSIS USING MACHINE LEARNING - TEST TASK**"
      ]
    },
    {
      "cell_type": "markdown",
      "metadata": {
        "id": "is88LSaftVqZ",
        "colab_type": "text"
      },
      "source": [
        "-Tanmay Delhikar\n",
        "\n",
        "\n"
      ]
    },
    {
      "cell_type": "markdown",
      "metadata": {
        "id": "F9eKjDyXw0y8",
        "colab_type": "text"
      },
      "source": [
        "\n",
        "\n",
        "---\n",
        "\n"
      ]
    },
    {
      "cell_type": "markdown",
      "metadata": {
        "id": "pyVHeouBwq3E",
        "colab_type": "text"
      },
      "source": [
        "Mount EuroSAT data in Google Drive or Local disk"
      ]
    },
    {
      "cell_type": "code",
      "metadata": {
        "id": "eJ4VtHO0whlm",
        "colab_type": "code",
        "colab": {}
      },
      "source": [
        "# from google.colab import drive\n",
        "# drive.mount('/content/drive',force_remount=True)\n",
        "# !unzip -q \"/content/drive/My Drive/Colab_Notebooks/EuroSAT.zip\""
      ],
      "execution_count": 0,
      "outputs": []
    },
    {
      "cell_type": "markdown",
      "metadata": {
        "id": "DkN0daRCwvKl",
        "colab_type": "text"
      },
      "source": [
        "\n",
        "\n",
        "---\n",
        "\n"
      ]
    },
    {
      "cell_type": "markdown",
      "metadata": {
        "id": "coJbnUYxxQWG",
        "colab_type": "text"
      },
      "source": [
        "Import libraries"
      ]
    },
    {
      "cell_type": "code",
      "metadata": {
        "id": "I70tHFu-wyEk",
        "colab_type": "code",
        "colab": {}
      },
      "source": [
        "import os\n",
        "import cv2\n",
        "import numpy as np\n",
        "from tqdm import tqdm\n",
        "import torch\n",
        "import torch.nn as nn\n",
        "import torch.nn.functional as F\n",
        "import torch.optim as optim\n",
        "import matplotlib.pyplot as plt\n",
        "from matplotlib import style\n",
        "from torchvision import models, datasets\n",
        "from collections import OrderedDict"
      ],
      "execution_count": 0,
      "outputs": []
    },
    {
      "cell_type": "markdown",
      "metadata": {
        "id": "tB6V3rqxxeeU",
        "colab_type": "text"
      },
      "source": [
        "\n",
        "\n",
        "---\n",
        "\n"
      ]
    },
    {
      "cell_type": "markdown",
      "metadata": {
        "id": "z7tTndayxfzs",
        "colab_type": "text"
      },
      "source": [
        "Data Loader Class"
      ]
    },
    {
      "cell_type": "code",
      "metadata": {
        "id": "-i0FbbDhxmE9",
        "colab_type": "code",
        "colab": {}
      },
      "source": [
        "class Data_Loader():\n",
        "    AnnualCrop = \"/content/2750/AnnualCrop\"\n",
        "    Forest = \"/content/2750/Forest\"\n",
        "    HerbaceousVegetation = \"/content/2750/HerbaceousVegetation\"\n",
        "    Highway = \"/content/2750/Highway\"\n",
        "    Industrial = \"/content/2750/Industrial\"\n",
        "    Pasture = \"/content/2750/Pasture\"\n",
        "    PermanentCrop = \"/content/2750/PermanentCrop\"\n",
        "    Residential = \"/content/2750/Residential\"\n",
        "    River = \"/content/2750/River\"\n",
        "    SeaLake = \"/content/2750/SeaLake\"\n",
        "\n",
        "    LABELS = {AnnualCrop: 0, Forest: 1, HerbaceousVegetation: 2, Highway: 3, Industrial: 4, Pasture: 5, PermanentCrop: 6, Residential: 7, River: 8, SeaLake: 9}\n",
        "    training_data = []\n",
        "\n",
        "    annualCropCount = 0\n",
        "    forestCount = 0\n",
        "    herbaceousVegetationCount=0\n",
        "    highwayCount=0\n",
        "    industrialCount=0\n",
        "    pastureCount=0\n",
        "    permanentCropCount=0\n",
        "    residentialCount=0\n",
        "    riverCount=0\n",
        "    seaLakeCount=0\n",
        "\n",
        "    def load_data(self):\n",
        "        for label in self.LABELS:\n",
        "            print('\\n'+label)\n",
        "            for f in tqdm(os.listdir(label)):\n",
        "                if \"jpg\" in f:\n",
        "                    try:\n",
        "                        path = os.path.join(label, f)\n",
        "\n",
        "                        #CONVERT IMAGE TO GRAYSCALE, USING ONLY 1 CHANNEL IN CONV LAYER\n",
        "                        img = cv2.imread(path, cv2.IMREAD_GRAYSCALE)\n",
        "\n",
        "                        #RESIZE IMAGE TO 50-BY-50\n",
        "                        img = cv2.resize(img, (IMG_SIZE, IMG_SIZE))\n",
        "\n",
        "                        #ONE HOT ENCODING\n",
        "                        self.training_data.append([np.array(img), np.eye(10)[self.LABELS[label]]])  # do something like print(np.eye(2)[1]), just makes one_hot \n",
        "\n",
        "                        if label == self.AnnualCrop:\n",
        "                            self.annualCropCount += 1\n",
        "                        elif label == self.Forest:\n",
        "                            self.forestCount += 1\n",
        "                        if label == self.HerbaceousVegetation:\n",
        "                            self.herbaceousVegetationCount += 1\n",
        "                        elif label == self.Highway:\n",
        "                            self.highwayCount += 1                        \n",
        "                        elif label == self.Industrial:\n",
        "                            self.industrialCount += 1                        \n",
        "                        elif label == self.Pasture:\n",
        "                            self.pastureCount += 1\n",
        "                        elif label == self.PermanentCrop:\n",
        "                            self.permanentCropCount += 1\n",
        "                        elif label == self.Residential:\n",
        "                            self.residentialCount += 1\n",
        "                        elif label == self.River:\n",
        "                            self.riverCount += 1       \n",
        "                        elif label == self.SeaLake:\n",
        "                            self.seaLakeCount += 1                    \n",
        "\n",
        "\n",
        "                    except Exception as e:\n",
        "                        pass\n",
        "\n",
        "        np.random.shuffle(self.training_data)\n",
        "        np.save(\"training_data.npy\", self.training_data)\n",
        "        print('\\n DATA BUILDING SUCCESSFUL, TOTAL COUNT: ',len(self.training_data))"
      ],
      "execution_count": 0,
      "outputs": []
    },
    {
      "cell_type": "markdown",
      "metadata": {
        "id": "OGei6x3zx-QU",
        "colab_type": "text"
      },
      "source": [
        "\n",
        "\n",
        "---\n",
        "\n"
      ]
    },
    {
      "cell_type": "markdown",
      "metadata": {
        "id": "aIydtLPqzKv9",
        "colab_type": "text"
      },
      "source": [
        "Parameters"
      ]
    },
    {
      "cell_type": "code",
      "metadata": {
        "id": "5OhXlV8HzNQ1",
        "colab_type": "code",
        "colab": {}
      },
      "source": [
        "BATCH_SIZE = 50\n",
        "EPOCHS = 10\n",
        "\n",
        "#IMAGE SIZE = 50-by-50\n",
        "IMG_SIZE = 50\n",
        "REBUILD_DATA = True"
      ],
      "execution_count": 0,
      "outputs": []
    },
    {
      "cell_type": "markdown",
      "metadata": {
        "id": "zfE9UQJyzNff",
        "colab_type": "text"
      },
      "source": [
        "\n",
        "\n",
        "---\n",
        "\n"
      ]
    },
    {
      "cell_type": "markdown",
      "metadata": {
        "id": "ogxOlQ4Tx-9U",
        "colab_type": "text"
      },
      "source": [
        "Custom CNN architecture"
      ]
    },
    {
      "cell_type": "code",
      "metadata": {
        "id": "ocLtTWZfyBrV",
        "colab_type": "code",
        "colab": {}
      },
      "source": [
        "# 3 CONVOLUTION LAYERS WITH MAX POOL + 2 FULLY CONNECTED LAYERS WITH RELU AND SOFTMAX\n",
        "class ConvNet(nn.Module):\n",
        "    def __init__(self):\n",
        "        super().__init__()\n",
        "        self.conv1 = nn.Conv2d(1, 32, 5)\n",
        "        self.conv2 = nn.Conv2d(32, 64, 5)\n",
        "        self.conv3 = nn.Conv2d(64, 128, 5)\n",
        "\n",
        "        x = torch.randn(50,50).view(-1,1,50,50)\n",
        "        self._to_linear = None\n",
        "        self.convs(x)\n",
        "\n",
        "        self.fc1 = nn.Linear(self._to_linear, 512)\n",
        "        self.fc2 = nn.Linear(512, 10)\n",
        "\n",
        "    def convs(self, x):\n",
        "        x = F.max_pool2d(F.relu(self.conv1(x)), (2,2))\n",
        "        x = F.max_pool2d(F.relu(self.conv2(x)), (2,2))\n",
        "        x = F.max_pool2d(F.relu(self.conv3(x)), (2,2))\n",
        "\n",
        "        if self._to_linear is None:\n",
        "            self._to_linear = x[0].shape[0]*x[0].shape[1]*x[0].shape[2]\n",
        "        return x\n",
        "\n",
        "    def forward(self, x):\n",
        "        x = self.convs(x)\n",
        "        x = x.view(-1, self._to_linear)\n",
        "        x = F.relu(self.fc1(x))\n",
        "        x = self.fc2(x)\n",
        "        return F.softmax(x, dim=1)"
      ],
      "execution_count": 0,
      "outputs": []
    },
    {
      "cell_type": "markdown",
      "metadata": {
        "id": "DjiyvS-HyJd9",
        "colab_type": "text"
      },
      "source": [
        "\n",
        "\n",
        "---\n",
        "\n"
      ]
    },
    {
      "cell_type": "markdown",
      "metadata": {
        "id": "wExtICvByKtY",
        "colab_type": "text"
      },
      "source": [
        "Check if CPU or GPU is available"
      ]
    },
    {
      "cell_type": "code",
      "metadata": {
        "id": "tzdmlgVCyNON",
        "colab_type": "code",
        "outputId": "65b4fcf7-7100-4d80-eab4-cd3e2be1a407",
        "colab": {
          "base_uri": "https://localhost:8080/",
          "height": 34
        }
      },
      "source": [
        "if torch.cuda.is_available():\n",
        "    device = torch.device(\"cuda:0\") \n",
        "    print(\"Running on the GPU\")\n",
        "else:\n",
        "    device = torch.device(\"cpu\")\n",
        "    print(\"Running on the CPU\")"
      ],
      "execution_count": 19,
      "outputs": [
        {
          "output_type": "stream",
          "text": [
            "Running on the GPU\n"
          ],
          "name": "stdout"
        }
      ]
    },
    {
      "cell_type": "markdown",
      "metadata": {
        "id": "g3CnfbynyQzV",
        "colab_type": "text"
      },
      "source": [
        "\n",
        "\n",
        "---\n",
        "\n"
      ]
    },
    {
      "cell_type": "markdown",
      "metadata": {
        "id": "W2HM4T6cyRbl",
        "colab_type": "text"
      },
      "source": [
        "Training, Testing, Forward Pass methods"
      ]
    },
    {
      "cell_type": "code",
      "metadata": {
        "id": "n-3sVOJcyfWE",
        "colab_type": "code",
        "colab": {}
      },
      "source": [
        "#FORWARD PASS MODULE\n",
        "def forward_pass(net,X, y, train=False):\n",
        "\n",
        "    if train:\n",
        "        net.zero_grad()\n",
        "    outputs = net(X)\n",
        "    matches  = [torch.argmax(i)==torch.argmax(j) for i, j in zip(outputs, y)]\n",
        "    acc = matches.count(True)/len(matches)\n",
        "    loss = loss_function(outputs, y)\n",
        "\n",
        "    if train:\n",
        "        loss.backward()\n",
        "        optimizer.step()\n",
        "\n",
        "    return acc, loss\n",
        "\n",
        "#TRAIN MODULE\n",
        "def train(net):\n",
        "\n",
        "    for epoch in tqdm(range(EPOCHS)):\n",
        "            print('\\n EPOCH NUMBER: ',epoch)\n",
        "            for i in range(0, len(train_X), BATCH_SIZE):\n",
        "                                batch_X = train_X[i:i+BATCH_SIZE].view(-1,1,50,50)\n",
        "                                batch_y = train_y[i:i+BATCH_SIZE]\n",
        "                                batch_X, batch_y = batch_X.to(device), batch_y.to(device)\n",
        "\n",
        "                                acc, loss = forward_pass(net,batch_X, batch_y, train=True)\n",
        "                                accuracy_list.append(round(float(acc),2))\n",
        "                                loss_list.append(round(float(loss),4))\n",
        "\n",
        "    print('\\n TRAINING COMPLETED')\n",
        "\n",
        "\n",
        "\n",
        "#TEST MODULE\n",
        "def test(net):\n",
        "    X, y = test_X, test_y\n",
        "    val_acc, val_loss = forward_pass(net,X.view(-1, 1, 50, 50).to(device), y.to(device))\n",
        "    print('\\n TESTING COMPLETED')\n",
        "    print('\\n TEST SET ACCURACY: ',val_acc)\n",
        "    return val_acc, val_loss"
      ],
      "execution_count": 0,
      "outputs": []
    },
    {
      "cell_type": "markdown",
      "metadata": {
        "id": "d54OTVj5yshm",
        "colab_type": "text"
      },
      "source": [
        "\n",
        "\n",
        "---\n",
        "\n"
      ]
    },
    {
      "cell_type": "markdown",
      "metadata": {
        "id": "lGP_cyCbytMd",
        "colab_type": "text"
      },
      "source": [
        "Prepare the data - train/test sets"
      ]
    },
    {
      "cell_type": "code",
      "metadata": {
        "id": "e2jpEtbMy521",
        "colab_type": "code",
        "outputId": "61c6f6db-45fd-43af-e69b-8982413565ad",
        "colab": {
          "base_uri": "https://localhost:8080/",
          "height": 605
        }
      },
      "source": [
        "#RELOAD PRE-BUILT DATA\n",
        "if REBUILD_DATA:\n",
        "    dataloader = Data_Loader()\n",
        "    dataloader.load_data()\n",
        "training_data = np.load(\"training_data.npy\", allow_pickle=True)\n",
        "\n",
        "\n",
        "#CONVERT DATA TO PYTORCH TENSORS\n",
        "X = torch.Tensor([i[0] for i in training_data]).view(-1, 50, 50)\n",
        "X = X/255.0\n",
        "y = torch.Tensor([i[1] for i in training_data])\n",
        "\n",
        "#SPLIT PERCENTAGE OF TEST SET\n",
        "VAL_PCT = 0.05\n",
        "val_size = int(len(X)*VAL_PCT)\n",
        "\n",
        "train_X = X[:-val_size]\n",
        "train_y = y[:-val_size]\n",
        "\n",
        "test_X = X[-val_size:]\n",
        "test_y = y[-val_size:]\n",
        "\n",
        "print('TRAIN SET SIZE',len(train_X))\n",
        "print('TEST SET SIZE',len(test_X))\n",
        "\n",
        "\n",
        "accuracy_list=[]\n",
        "loss_list=[]"
      ],
      "execution_count": 21,
      "outputs": [
        {
          "output_type": "stream",
          "text": [
            " 18%|█▊        | 543/3000 [00:00<00:00, 5420.92it/s]"
          ],
          "name": "stderr"
        },
        {
          "output_type": "stream",
          "text": [
            "\n",
            "/content/2750/AnnualCrop\n"
          ],
          "name": "stdout"
        },
        {
          "output_type": "stream",
          "text": [
            "100%|██████████| 3000/3000 [00:00<00:00, 5410.53it/s]\n",
            " 18%|█▊        | 538/3000 [00:00<00:00, 5375.31it/s]"
          ],
          "name": "stderr"
        },
        {
          "output_type": "stream",
          "text": [
            "\n",
            "/content/2750/Forest\n"
          ],
          "name": "stdout"
        },
        {
          "output_type": "stream",
          "text": [
            "100%|██████████| 3000/3000 [00:00<00:00, 5388.89it/s]\n",
            " 17%|█▋        | 517/3000 [00:00<00:00, 5167.00it/s]"
          ],
          "name": "stderr"
        },
        {
          "output_type": "stream",
          "text": [
            "\n",
            "/content/2750/HerbaceousVegetation\n"
          ],
          "name": "stdout"
        },
        {
          "output_type": "stream",
          "text": [
            "100%|██████████| 3000/3000 [00:00<00:00, 5177.36it/s]\n",
            " 21%|██▏       | 533/2500 [00:00<00:00, 5321.80it/s]"
          ],
          "name": "stderr"
        },
        {
          "output_type": "stream",
          "text": [
            "\n",
            "/content/2750/Highway\n"
          ],
          "name": "stdout"
        },
        {
          "output_type": "stream",
          "text": [
            "100%|██████████| 2500/2500 [00:00<00:00, 5211.43it/s]\n",
            " 20%|██        | 509/2500 [00:00<00:00, 5085.95it/s]"
          ],
          "name": "stderr"
        },
        {
          "output_type": "stream",
          "text": [
            "\n",
            "/content/2750/Industrial\n"
          ],
          "name": "stdout"
        },
        {
          "output_type": "stream",
          "text": [
            "100%|██████████| 2500/2500 [00:00<00:00, 4906.67it/s]\n",
            " 27%|██▋       | 547/2000 [00:00<00:00, 5462.57it/s]"
          ],
          "name": "stderr"
        },
        {
          "output_type": "stream",
          "text": [
            "\n",
            "/content/2750/Pasture\n"
          ],
          "name": "stdout"
        },
        {
          "output_type": "stream",
          "text": [
            "100%|██████████| 2000/2000 [00:00<00:00, 5285.38it/s]\n",
            " 21%|██        | 528/2500 [00:00<00:00, 5279.55it/s]"
          ],
          "name": "stderr"
        },
        {
          "output_type": "stream",
          "text": [
            "\n",
            "/content/2750/PermanentCrop\n"
          ],
          "name": "stdout"
        },
        {
          "output_type": "stream",
          "text": [
            "100%|██████████| 2500/2500 [00:00<00:00, 5166.42it/s]\n",
            " 17%|█▋        | 509/3000 [00:00<00:00, 5080.65it/s]"
          ],
          "name": "stderr"
        },
        {
          "output_type": "stream",
          "text": [
            "\n",
            "/content/2750/Residential\n"
          ],
          "name": "stdout"
        },
        {
          "output_type": "stream",
          "text": [
            "100%|██████████| 3000/3000 [00:00<00:00, 4891.48it/s]\n",
            " 22%|██▏       | 550/2500 [00:00<00:00, 5497.41it/s]"
          ],
          "name": "stderr"
        },
        {
          "output_type": "stream",
          "text": [
            "\n",
            "/content/2750/River\n"
          ],
          "name": "stdout"
        },
        {
          "output_type": "stream",
          "text": [
            "100%|██████████| 2500/2500 [00:00<00:00, 5367.87it/s]\n",
            " 21%|██        | 619/3000 [00:00<00:00, 6183.06it/s]"
          ],
          "name": "stderr"
        },
        {
          "output_type": "stream",
          "text": [
            "\n",
            "/content/2750/SeaLake\n"
          ],
          "name": "stdout"
        },
        {
          "output_type": "stream",
          "text": [
            "100%|██████████| 3000/3000 [00:00<00:00, 6090.71it/s]\n"
          ],
          "name": "stderr"
        },
        {
          "output_type": "stream",
          "text": [
            "\n",
            " DATA BUILDING SUCCESSFUL, TOTAL COUNT:  27000\n",
            "TRAIN SET SIZE 25650\n",
            "TEST SET SIZE 1350\n"
          ],
          "name": "stdout"
        }
      ]
    },
    {
      "cell_type": "markdown",
      "metadata": {
        "id": "uoGadcVrzmaF",
        "colab_type": "text"
      },
      "source": [
        "\n",
        "\n",
        "---\n",
        "\n"
      ]
    },
    {
      "cell_type": "code",
      "metadata": {
        "id": "jVZ32bqMRKsf",
        "colab_type": "code",
        "colab": {}
      },
      "source": [
        "#CREATE CONVNET OBJECT\n",
        "net = ConvNet().to(device)\n",
        "#ADAM OPTIMIZER\n",
        "optimizer = optim.Adam(net.parameters(), lr=0.001)\n",
        "#MSE LOSS FUNCTION\n",
        "loss_function = nn.MSELoss()"
      ],
      "execution_count": 0,
      "outputs": []
    },
    {
      "cell_type": "markdown",
      "metadata": {
        "id": "ysfVOaYJznfF",
        "colab_type": "text"
      },
      "source": [
        "Execute Training and Testing phase"
      ]
    },
    {
      "cell_type": "code",
      "metadata": {
        "id": "F6ivdfUfzxPU",
        "colab_type": "code",
        "outputId": "b22c00bd-ba85-40c5-bff2-aca6355c582b",
        "colab": {
          "base_uri": "https://localhost:8080/",
          "height": 518
        }
      },
      "source": [
        "train(net)\n",
        "test(net)"
      ],
      "execution_count": 23,
      "outputs": [
        {
          "output_type": "stream",
          "text": [
            "\r  0%|          | 0/10 [00:00<?, ?it/s]"
          ],
          "name": "stderr"
        },
        {
          "output_type": "stream",
          "text": [
            "\n",
            " EPOCH NUMBER:  0\n"
          ],
          "name": "stdout"
        },
        {
          "output_type": "stream",
          "text": [
            "\r 10%|█         | 1/10 [00:08<01:20,  8.97s/it]"
          ],
          "name": "stderr"
        },
        {
          "output_type": "stream",
          "text": [
            "\n",
            " EPOCH NUMBER:  1\n"
          ],
          "name": "stdout"
        },
        {
          "output_type": "stream",
          "text": [
            "\r 20%|██        | 2/10 [00:17<01:11,  8.93s/it]"
          ],
          "name": "stderr"
        },
        {
          "output_type": "stream",
          "text": [
            "\n",
            " EPOCH NUMBER:  2\n"
          ],
          "name": "stdout"
        },
        {
          "output_type": "stream",
          "text": [
            "\r 30%|███       | 3/10 [00:26<01:02,  8.91s/it]"
          ],
          "name": "stderr"
        },
        {
          "output_type": "stream",
          "text": [
            "\n",
            " EPOCH NUMBER:  3\n"
          ],
          "name": "stdout"
        },
        {
          "output_type": "stream",
          "text": [
            "\r 40%|████      | 4/10 [00:35<00:53,  8.89s/it]"
          ],
          "name": "stderr"
        },
        {
          "output_type": "stream",
          "text": [
            "\n",
            " EPOCH NUMBER:  4\n"
          ],
          "name": "stdout"
        },
        {
          "output_type": "stream",
          "text": [
            "\r 50%|█████     | 5/10 [00:44<00:44,  8.87s/it]"
          ],
          "name": "stderr"
        },
        {
          "output_type": "stream",
          "text": [
            "\n",
            " EPOCH NUMBER:  5\n"
          ],
          "name": "stdout"
        },
        {
          "output_type": "stream",
          "text": [
            "\r 60%|██████    | 6/10 [00:53<00:35,  8.86s/it]"
          ],
          "name": "stderr"
        },
        {
          "output_type": "stream",
          "text": [
            "\n",
            " EPOCH NUMBER:  6\n"
          ],
          "name": "stdout"
        },
        {
          "output_type": "stream",
          "text": [
            "\r 70%|███████   | 7/10 [01:02<00:26,  8.86s/it]"
          ],
          "name": "stderr"
        },
        {
          "output_type": "stream",
          "text": [
            "\n",
            " EPOCH NUMBER:  7\n"
          ],
          "name": "stdout"
        },
        {
          "output_type": "stream",
          "text": [
            "\r 80%|████████  | 8/10 [01:10<00:17,  8.84s/it]"
          ],
          "name": "stderr"
        },
        {
          "output_type": "stream",
          "text": [
            "\n",
            " EPOCH NUMBER:  8\n"
          ],
          "name": "stdout"
        },
        {
          "output_type": "stream",
          "text": [
            "\r 90%|█████████ | 9/10 [01:19<00:08,  8.83s/it]"
          ],
          "name": "stderr"
        },
        {
          "output_type": "stream",
          "text": [
            "\n",
            " EPOCH NUMBER:  9\n"
          ],
          "name": "stdout"
        },
        {
          "output_type": "stream",
          "text": [
            "\r100%|██████████| 10/10 [01:28<00:00,  8.82s/it]\n"
          ],
          "name": "stderr"
        },
        {
          "output_type": "stream",
          "text": [
            "\n",
            " TRAINING COMPLETED\n",
            "\n",
            " TESTING COMPLETED\n",
            "\n",
            " TEST SET ACCURACY:  0.7207407407407408\n"
          ],
          "name": "stdout"
        },
        {
          "output_type": "execute_result",
          "data": {
            "text/plain": [
              "(0.7207407407407408,\n",
              " tensor(0.0403, device='cuda:0', grad_fn=<MseLossBackward>))"
            ]
          },
          "metadata": {
            "tags": []
          },
          "execution_count": 23
        }
      ]
    },
    {
      "cell_type": "markdown",
      "metadata": {
        "id": "1ik9GQx65HUI",
        "colab_type": "text"
      },
      "source": [
        "\n",
        "\n",
        "---\n",
        "\n"
      ]
    },
    {
      "cell_type": "markdown",
      "metadata": {
        "id": "Kc3uYiKe5IC9",
        "colab_type": "text"
      },
      "source": [
        "Plotting Loss and Accuracy on training dataset"
      ]
    },
    {
      "cell_type": "code",
      "metadata": {
        "id": "6HuSIyfz5Nfl",
        "colab_type": "code",
        "outputId": "049f7932-a2f4-4442-e970-05365917593d",
        "colab": {
          "base_uri": "https://localhost:8080/",
          "height": 265
        }
      },
      "source": [
        "# X-AXIS BATCHES, Y-AXIS ACCURACY(0-1)\n",
        "def plot_accuracy_loss():\n",
        "        fig = plt.figure()\n",
        "        ax1 = plt.subplot2grid((2,1), (0,0))\n",
        "        ax2 = plt.subplot2grid((2,1), (1,0), sharex=ax1)\n",
        "        ax1.plot(accuracy_list, label=\"Training set accuracy\")\n",
        "        ax1.legend(loc=2)\n",
        "        ax2.plot(loss_list, label=\"Training set loss\")\n",
        "        ax2.legend(loc=2)\n",
        "        plt.show()\n",
        "        \n",
        "plot_accuracy_loss()"
      ],
      "execution_count": 24,
      "outputs": [
        {
          "output_type": "display_data",
          "data": {
            "image/png": "[encoded data removed]",
            "text/plain": [
              "<Figure size 432x288 with 2 Axes>"
            ]
          },
          "metadata": {
            "tags": []
          }
        }
      ]
    },
    {
      "cell_type": "markdown",
      "metadata": {
        "id": "QM38lVpO6Ie_",
        "colab_type": "text"
      },
      "source": [
        "\n",
        "\n",
        "---\n",
        "\n"
      ]
    },
    {
      "cell_type": "markdown",
      "metadata": {
        "id": "iiQDPqif6JM-",
        "colab_type": "text"
      },
      "source": [
        "Image Net Pre Trained Network"
      ]
    },
    {
      "cell_type": "code",
      "metadata": {
        "id": "AGCMKTDm6MCU",
        "colab_type": "code",
        "outputId": "32957f23-6baa-4255-f16d-37134d0bc613",
        "colab": {
          "base_uri": "https://localhost:8080/",
          "height": 731
        }
      },
      "source": [
        "#USING PRETRAINED RESNET18 MODEL\n",
        "resnet18 = models.resnet18(pretrained=True)\n",
        "optimizer = optim.Adam(resnet18.parameters(), lr=0.001)\n",
        "\n",
        "#CHANGING DIMENSIONS OF FC LAYER TO OUTPUT 10 CLASSES\n",
        "fc_inputs = resnet18.fc.in_features\n",
        "\n",
        "#Classifier architecture to put on top of resnet18\n",
        "fc = nn.Sequential(OrderedDict([\n",
        "    ('fc1', nn.Linear(fc_inputs,100)),\n",
        "    ('relu', nn.ReLU()),\n",
        "    ('fc2', nn.Linear(100,10)),\n",
        "    ('output', nn.Softmax(dim=1))\n",
        "]))\n",
        "\n",
        "resnet18.fc = fc\n",
        "\n",
        "#CHANGE INPUT OF FIRST CONV LAYER - 1 CHANNEL, 64 FILTERS\n",
        "resnet18.conv1 = nn.Conv2d(1, 64, kernel_size=3)\n",
        "resnet18 = resnet18.to(device)\n",
        "accuracy_list=[]\n",
        "loss_list=[]\n",
        "train(resnet18)\n",
        "test(resnet18)\n",
        "plot_accuracy_loss()"
      ],
      "execution_count": 25,
      "outputs": [
        {
          "output_type": "stream",
          "text": [
            "\r  0%|          | 0/10 [00:00<?, ?it/s]"
          ],
          "name": "stderr"
        },
        {
          "output_type": "stream",
          "text": [
            "\n",
            " EPOCH NUMBER:  0\n"
          ],
          "name": "stdout"
        },
        {
          "output_type": "stream",
          "text": [
            "\r 10%|█         | 1/10 [00:55<08:18, 55.34s/it]"
          ],
          "name": "stderr"
        },
        {
          "output_type": "stream",
          "text": [
            "\n",
            " EPOCH NUMBER:  1\n"
          ],
          "name": "stdout"
        },
        {
          "output_type": "stream",
          "text": [
            "\r 20%|██        | 2/10 [01:50<07:22, 55.32s/it]"
          ],
          "name": "stderr"
        },
        {
          "output_type": "stream",
          "text": [
            "\n",
            " EPOCH NUMBER:  2\n"
          ],
          "name": "stdout"
        },
        {
          "output_type": "stream",
          "text": [
            "\r 30%|███       | 3/10 [02:45<06:27, 55.30s/it]"
          ],
          "name": "stderr"
        },
        {
          "output_type": "stream",
          "text": [
            "\n",
            " EPOCH NUMBER:  3\n"
          ],
          "name": "stdout"
        },
        {
          "output_type": "stream",
          "text": [
            "\r 40%|████      | 4/10 [03:41<05:31, 55.29s/it]"
          ],
          "name": "stderr"
        },
        {
          "output_type": "stream",
          "text": [
            "\n",
            " EPOCH NUMBER:  4\n"
          ],
          "name": "stdout"
        },
        {
          "output_type": "stream",
          "text": [
            "\r 50%|█████     | 5/10 [04:36<04:36, 55.27s/it]"
          ],
          "name": "stderr"
        },
        {
          "output_type": "stream",
          "text": [
            "\n",
            " EPOCH NUMBER:  5\n"
          ],
          "name": "stdout"
        },
        {
          "output_type": "stream",
          "text": [
            "\r 60%|██████    | 6/10 [05:31<03:41, 55.27s/it]"
          ],
          "name": "stderr"
        },
        {
          "output_type": "stream",
          "text": [
            "\n",
            " EPOCH NUMBER:  6\n"
          ],
          "name": "stdout"
        },
        {
          "output_type": "stream",
          "text": [
            "\r 70%|███████   | 7/10 [06:26<02:45, 55.25s/it]"
          ],
          "name": "stderr"
        },
        {
          "output_type": "stream",
          "text": [
            "\n",
            " EPOCH NUMBER:  7\n"
          ],
          "name": "stdout"
        },
        {
          "output_type": "stream",
          "text": [
            "\r 80%|████████  | 8/10 [07:21<01:50, 55.21s/it]"
          ],
          "name": "stderr"
        },
        {
          "output_type": "stream",
          "text": [
            "\n",
            " EPOCH NUMBER:  8\n"
          ],
          "name": "stdout"
        },
        {
          "output_type": "stream",
          "text": [
            "\r 90%|█████████ | 9/10 [08:17<00:55, 55.20s/it]"
          ],
          "name": "stderr"
        },
        {
          "output_type": "stream",
          "text": [
            "\n",
            " EPOCH NUMBER:  9\n"
          ],
          "name": "stdout"
        },
        {
          "output_type": "stream",
          "text": [
            "\r100%|██████████| 10/10 [09:12<00:00, 55.22s/it]\n"
          ],
          "name": "stderr"
        },
        {
          "output_type": "stream",
          "text": [
            "\n",
            " TRAINING COMPLETED\n",
            "\n",
            " TESTING COMPLETED\n",
            "\n",
            " TEST SET ACCURACY:  0.9177777777777778\n"
          ],
          "name": "stdout"
        },
        {
          "output_type": "display_data",
          "data": {
            "image/png": "[encoded data removed]",
            "text/plain": [
              "<Figure size 432x288 with 2 Axes>"
            ]
          },
          "metadata": {
            "tags": []
          }
        }
      ]
    },
    {
      "cell_type": "markdown",
      "metadata": {
        "id": "PCteCD5_sGco",
        "colab_type": "text"
      },
      "source": [
        "\n",
        "\n",
        "---\n",
        "\n"
      ]
    },
    {
      "cell_type": "markdown",
      "metadata": {
        "id": "PcHILf2dsHjF",
        "colab_type": "text"
      },
      "source": [
        "Visualizing first layer kernels"
      ]
    },
    {
      "cell_type": "code",
      "metadata": {
        "id": "aSg5Ax5QsR0-",
        "colab_type": "code",
        "outputId": "227b2e0e-979d-490d-bc55-8e171727d2c4",
        "colab": {
          "base_uri": "https://localhost:8080/",
          "height": 461
        }
      },
      "source": [
        "def plot_filters(t):\n",
        "    \n",
        "    #KERNEL DEPTH * NO. OF KERNELS\n",
        "    nplots = t.shape[0]*t.shape[1]\n",
        "    ncols = 12\n",
        "    nrows = 1 + nplots//ncols\n",
        "\n",
        "    #CONVERT TENSOR TO IMAGE\n",
        "    npimg = np.array(t.numpy(), np.float32)\n",
        "    count = 0\n",
        "    fig = plt.figure(figsize=(ncols, nrows))\n",
        "    \n",
        "    #LOOPING THROUGH ALL THE KERNELS\n",
        "    for i in range(t.shape[0]):\n",
        "        for j in range(t.shape[1]):\n",
        "            count += 1\n",
        "            ax1 = fig.add_subplot(nrows, ncols, count)\n",
        "            npimg = np.array(t[i, j].numpy(), np.float32)\n",
        "            npimg = (npimg - np.mean(npimg)) / np.std(npimg)\n",
        "            npimg = np.minimum(1, np.maximum(0, (npimg + 0.5)))\n",
        "            ax1.imshow(npimg)\n",
        "            ax1.set_title(str(i) + ',' + str(j))\n",
        "            ax1.axis('off')\n",
        "            ax1.set_xticklabels([])\n",
        "            ax1.set_yticklabels([])\n",
        "   \n",
        "    plt.tight_layout()\n",
        "    plt.show()\n",
        "\n",
        "def plot_weights(model, layer_num):\n",
        "  \n",
        "  #EXTRACTING MODEL FEATURES IN A LAYER\n",
        "  layer = model.conv1\n",
        "  \n",
        "  #CHECK IF IT IS CONV LAYER \n",
        "  if isinstance(layer, nn.Conv2d):\n",
        "    #GETTING WEIGHT DATA\n",
        "    weight_tensor = model.conv1.weight.data\n",
        "    \n",
        "    plot_filters(weight_tensor)\n",
        "        \n",
        "#VISULAIZE WEIGHTS FOR RESNET 1st CONV LAYER\n",
        "plot_weights(resnet18.cpu(), 1)"
      ],
      "execution_count": 26,
      "outputs": [
        {
          "output_type": "display_data",
          "data": {
            "image/png": "[encoded data removed]",
            "text/plain": [
              "<Figure size 864x432 with 64 Axes>"
            ]
          },
          "metadata": {
            "tags": []
          }
        }
      ]
    }
  ]
}